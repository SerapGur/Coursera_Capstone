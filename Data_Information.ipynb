{
    "cells": [
        {
            "cell_type": "markdown",
            "metadata": {
                "collapsed": true
            },
            "source": "# DATA SECTION\n### Data: \n    To understand and explore and provide a solution to our research question, I need to use these data sets.\n    -\tOpen Neighborhoods data: 'https://en.wikipedia.org/wiki/List_of_postal_codes_of_Canada:_M'\n    -\tLatitude and longitude of Neighborhoods\n    -\tFoursquare Developers Access to venue data: https://foursquare.com/\n    -\tVenue information of the Middle Eastern restaurants. \n \n### Details:\n    The neighborhood data will enable us to properly group restaurants by neighborhood and specifically for Middle Eastern restaurants. Then by adding the latitude and longitude of these neighborhood, we would able explore a geographical location. Then we will construct a URL to send a request to the API to search for types of venues, and we will look for specifically Middle Eastern type. By using folium, we will visualize the results. And at the end cluster analysis is going to be used to cluster the neighborhood into 3 clusters. By using cluster analysis, I will able to see in which cluster the Middle Eastern restaurants take place and where is the location, so I can provide a solution to the main research question. \n\n"
        },
        {
            "cell_type": "code",
            "execution_count": null,
            "metadata": {},
            "outputs": [],
            "source": ""
        }
    ],
    "metadata": {
        "kernelspec": {
            "display_name": "Python 3.6",
            "language": "python",
            "name": "python3"
        },
        "language_info": {
            "codemirror_mode": {
                "name": "ipython",
                "version": 3
            },
            "file_extension": ".py",
            "mimetype": "text/x-python",
            "name": "python",
            "nbconvert_exporter": "python",
            "pygments_lexer": "ipython3",
            "version": "3.6.8"
        }
    },
    "nbformat": 4,
    "nbformat_minor": 1
}