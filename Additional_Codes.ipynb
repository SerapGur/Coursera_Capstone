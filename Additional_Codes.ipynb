{
    "cells": [
        {
            "metadata": {},
            "cell_type": "code",
            "source": "# from PIL import Image\nfrom IPython.display import Image\nfrom IPython.core.display import HTML \nImage(url=\"https://torontoobserver.ca/wp-content/uploads/2018/04/EMS041318_BilalQatta04_web-700x491.jpg\")",
            "execution_count": 7,
            "outputs": [
                {
                    "output_type": "execute_result",
                    "execution_count": 7,
                    "data": {
                        "text/html": "<img src=\"https://torontoobserver.ca/wp-content/uploads/2018/04/EMS041318_BilalQatta04_web-700x491.jpg\"/>",
                        "text/plain": "<IPython.core.display.Image object>"
                    },
                    "metadata": {}
                }
            ]
        },
        {
            "metadata": {},
            "cell_type": "code",
            "source": "",
            "execution_count": null,
            "outputs": []
        }
    ],
    "metadata": {
        "kernelspec": {
            "name": "python3",
            "display_name": "Python 3.6",
            "language": "python"
        },
        "language_info": {
            "name": "python",
            "version": "3.6.8",
            "mimetype": "text/x-python",
            "codemirror_mode": {
                "name": "ipython",
                "version": 3
            },
            "pygments_lexer": "ipython3",
            "nbconvert_exporter": "python",
            "file_extension": ".py"
        }
    },
    "nbformat": 4,
    "nbformat_minor": 1
}