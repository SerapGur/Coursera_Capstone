{
    "cells": [
        {
            "metadata": {
                "collapsed": true
            },
            "cell_type": "markdown",
            "source": "# PROJECT INTRODUCTION\n### Introduction: \n    The whole world was shocked to witness the rapid genesis and spread of the mass protests around the Arab world between December 2010 and April 2011. The protests began in December 2010 in Tunisia, spreading to Egypt and other countries across the Arab world, and resulted in the overthrow of four governments by August 2012. However, the situation was different in Syria. After August 2011 the peaceful protests gradually turned into a civil war between the government forces and rebel groups in Syria. After five years, more than 220,000 Syrians have died. The number is still increasing, and more than half of the country\u2019s population has been displaced.[i]\n    One of the campaign promise of the Justin Trudeau was to resettle 25.000 Syrian refugees in Canada. After the election of Prime Minister Justin Trudeau, under the resettlement initiative known as Operation Syrian Refugees, 26,172 Syrian refugees were resettled in Canada between November 2015 and February 2016.[ii] In 2016, that number rose to nearly 47,000. From these refuges, Toronto received the highest numbers of arrivals. In 2016, 11,405 refugees (including approximately 7.000 Syrian refugees) were resettled in Toronto. In the last couple of years, the numbers of the refugees are increased tremendously.[iii] Most of the refuges are highly educated and skilled people who want to contribute and be a part of their host countries. Some of them want to return their former professions (bakery or restaurant operator ,hairdresser, tailor\u2026)  or some of them want to complete their education.[iv] In this project we want to help these refuges and show them in which places they can open a new restaurant and they can be successful. In other words, which place can be a potential place for their business.\n\n### Problem: \n    As a result of Syrian civil war, more than half of the Syrian people has been displaced. First neighbor countries-Turkey, Egypt, Iraq, Jordan, and Lebanon welcomed them and gradually other countries such as Canada, USA, Germany began to welcome them. Right now, Toronto is hosting a large number of Syrian refugees.[v] When these refugees were resettled, they were getting all the helps from the government. However, after a certain time period, they want to be a part of the community and want to contribute to their host society. They want to work and return to their former professions and earn their own money. Some of these refugees were business people, they had small shops, restaurants, bakery, hairdresser salons and so on.[vi] They already have the knowledge of their professions but they do not know so much about Toronto, different cities, famous locations for businesses. For that reason in this study, we want to provide a solution to their business problem. Our research question is, if a Syrian refugee wants to open a Middle Eastern restaurant, which location will be the best option? \n\n### Audience: \n    Syrian refugees who want to start a new business and open a restaurant in Toronto. At the same time, this would interest anyone else who want to open a Middle Eastern restaurant in Toronto. \n\n### Resources\n    [i]UNHCR, Global Trends: Forced Displacement in 2015   \n    \n    [ii]Immigration, Refugees and Citizenship Canada, #WelcomeRefugees: Key figures\n    \n    [iii] [v]UNHCR, Global Trends: Forced Displacement in 2018\n    \n    [iv] [vi] https://www.toronto.ca/city-government/council/2018-council-issue-notes/torontos-social-development/growth-areas/\n"
        },
        {
            "metadata": {},
            "cell_type": "code",
            "source": "",
            "execution_count": null,
            "outputs": []
        }
    ],
    "metadata": {
        "kernelspec": {
            "name": "python3",
            "display_name": "Python 3.6",
            "language": "python"
        },
        "language_info": {
            "name": "python",
            "version": "3.6.8",
            "mimetype": "text/x-python",
            "codemirror_mode": {
                "name": "ipython",
                "version": 3
            },
            "pygments_lexer": "ipython3",
            "nbconvert_exporter": "python",
            "file_extension": ".py"
        }
    },
    "nbformat": 4,
    "nbformat_minor": 1
}